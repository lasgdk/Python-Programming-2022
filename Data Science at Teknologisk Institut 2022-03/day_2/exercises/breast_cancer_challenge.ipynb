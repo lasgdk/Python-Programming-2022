{
 "cells": [
  {
   "cell_type": "markdown",
   "metadata": {},
   "source": [
    "# The breast cancer challenge\n",
    "This challenge is about producing the best possible model on the breast cancer dataset. The label if the `diagnosis` column, where `M` stands for malignant (bad type) and `B` stands for benign. The challenge is to predict the whether an row will be benign or malignant. Use all that you have learned in the course, and if you have the time, try out other models in sklearn (http://scikit-learn.org/stable/supervised_learning.html) e.g. SVM and K-nearest neighbours."
   ]
  },
  {
   "cell_type": "code",
   "execution_count": 13,
   "metadata": {
    "collapsed": true
   },
   "outputs": [],
   "source": [
    "import pandas as pd\n",
    "import numpy as np\n",
    "\n",
    "# Load in full dataset\n",
    "df_full = pd.read_csv('breast.csv')\n",
    "\n",
    "# Drop the last column as it is loaded by mistake\n",
    "df_full = df_full.drop('Unnamed: 32', axis = 1)\n",
    "\n",
    "# Set seed so that the same train/test split is made every time\n",
    "np.random.seed(0)\n",
    "\n",
    "# Create random ordering\n",
    "idx = np.random.permutation(np.arange(df_full.shape[0]))\n",
    "\n",
    "# Train and test datasets\n",
    "perc_train = 0.7\n",
    "max_row_number_train = int(perc_train * df_full.shape[0])\n",
    "train = df_full.loc[idx[:max_row_number_train]]\n",
    "\n",
    "test = df_full.loc[idx[max_row_number_train:]]"
   ]
  },
  {
   "cell_type": "markdown",
   "metadata": {},
   "source": [
    "Decide if you would like to do cross validation, or create a separate validation set. Afterwards start modelling, and score your models on the validation set. In the end we will compare scores on the test set between all participant's models."
   ]
  }
 ],
 "metadata": {
  "kernelspec": {
   "display_name": "Python 3",
   "language": "python",
   "name": "python3"
  },
  "language_info": {
   "codemirror_mode": {
    "name": "ipython",
    "version": 3
   },
   "file_extension": ".py",
   "mimetype": "text/x-python",
   "name": "python",
   "nbconvert_exporter": "python",
   "pygments_lexer": "ipython3",
   "version": "3.6.3"
  }
 },
 "nbformat": 4,
 "nbformat_minor": 2
}
