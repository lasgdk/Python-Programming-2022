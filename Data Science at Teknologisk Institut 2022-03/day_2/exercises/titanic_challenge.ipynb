{
 "cells": [
  {
   "cell_type": "markdown",
   "metadata": {},
   "source": [
    "# The titanic challenge\n",
    "This challenge is about producing the best possible model on the titanic dataset. Load in the `titanic_challenge_train.csv` dataset, split it into validation and training, do one-hot encoding, try out different ways of imputing, try different types of models and try to find the best one. In the end we will evaluate on the `titanic_challenge_test.csv` dataset, to see who has the best performance out-of-sample.\n",
    "\n",
    "A list of all available supervised learning models in `sklearn` can be found here: http://scikit-learn.org/stable/supervised_learning.html\n",
    "\n",
    "A description of the variables can be found here: http://campus.lakeforest.edu/frank/FILES/MLFfiles/Bio150/Titanic/TitanicMETA.pdf"
   ]
  },
  {
   "cell_type": "code",
   "execution_count": 17,
   "metadata": {
    "collapsed": true
   },
   "outputs": [],
   "source": [
    "import pandas as pd\n",
    "train = pd.read_csv('../../data/titanic_challenge_train.csv', index_col = 0)\n",
    "test = pd.read_csv('../../data/titanic_challenge_test.csv', index_col = 0)"
   ]
  }
 ],
 "metadata": {
  "kernelspec": {
   "display_name": "Python 3",
   "language": "python",
   "name": "python3"
  },
  "language_info": {
   "codemirror_mode": {
    "name": "ipython",
    "version": 3
   },
   "file_extension": ".py",
   "mimetype": "text/x-python",
   "name": "python",
   "nbconvert_exporter": "python",
   "pygments_lexer": "ipython3",
   "version": "3.6.3"
  }
 },
 "nbformat": 4,
 "nbformat_minor": 2
}
