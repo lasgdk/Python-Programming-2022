{
 "cells": [
  {
   "cell_type": "markdown",
   "metadata": {},
   "source": [
    "# General Python introduction\n",
    "This notebook illustrates some basic tools and syntax necessary for working with Python. "
   ]
  },
  {
   "cell_type": "markdown",
   "metadata": {},
   "source": [
    "# Booleans\n",
    "Booleans are variables that can be either True or False. These can be compared using the operator `==`. Checking if two conditions are not equal can be done using the operator `!=`."
   ]
  },
  {
   "cell_type": "code",
   "execution_count": 5,
   "metadata": {},
   "outputs": [
    {
     "name": "stdout",
     "output_type": "stream",
     "text": [
      "True\n",
      "False\n"
     ]
    }
   ],
   "source": [
    "is_turkey_hot = True\n",
    "is_ham_cold = True\n",
    "\n",
    "# Test equality\n",
    "print(is_turkey_hot == is_ham_cold)\n",
    "\n",
    "# Test non-equality\n",
    "print(is_turkey_hot != is_ham_cold)"
   ]
  },
  {
   "cell_type": "markdown",
   "metadata": {},
   "source": [
    "# Strings\n",
    "In python a string can be made using either the symbol \" or '."
   ]
  },
  {
   "cell_type": "code",
   "execution_count": 3,
   "metadata": {},
   "outputs": [
    {
     "name": "stdout",
     "output_type": "stream",
     "text": [
      "this is a string\n",
      "this is also a string\n"
     ]
    }
   ],
   "source": [
    "print(\"this is a string\")\n",
    "print('this is also a string')"
   ]
  },
  {
   "cell_type": "markdown",
   "metadata": {},
   "source": [
    "## If\n",
    "The `if` statement is a basic component of almost all scripts. It used in a situation where an action is to be taken if a certain criteria is satisfied."
   ]
  },
  {
   "cell_type": "code",
   "execution_count": 1,
   "metadata": {},
   "outputs": [
    {
     "name": "stdout",
     "output_type": "stream",
     "text": [
      "Delicious\n"
     ]
    }
   ],
   "source": [
    "eggs = 'warm'\n",
    "if eggs == 'warm':\n",
    "    print(\"Delicious\")"
   ]
  },
  {
   "cell_type": "markdown",
   "metadata": {},
   "source": [
    "You can also consider the case when the criteria is not satisfied, using the `else` statement."
   ]
  },
  {
   "cell_type": "code",
   "execution_count": 6,
   "metadata": {},
   "outputs": [
    {
     "name": "stdout",
     "output_type": "stream",
     "text": [
      "Delicious\n"
     ]
    }
   ],
   "source": [
    "eggs = 'warm'\n",
    "if eggs == 'warm':\n",
    "    print(\"Delicious\")\n",
    "else:\n",
    "    print(\"Eggs not warm\")"
   ]
  },
  {
   "cell_type": "markdown",
   "metadata": {},
   "source": [
    "Lastly, there is the `elif` statement, which can be used to check multiple criteria after each other."
   ]
  },
  {
   "cell_type": "code",
   "execution_count": 7,
   "metadata": {},
   "outputs": [
    {
     "name": "stdout",
     "output_type": "stream",
     "text": [
      "Delicious\n"
     ]
    }
   ],
   "source": [
    "eggs = 'warm'\n",
    "if eggs == 'warm':\n",
    "    print(\"Delicious\")\n",
    "elif eggs == 'lukewarm':\n",
    "    print(\"Should I eat them?\")\n",
    "else:\n",
    "    print(\"Eggs not warm\")"
   ]
  },
  {
   "cell_type": "markdown",
   "metadata": {},
   "source": [
    "# Lists\n",
    "Lists are important and used a lot in this course. A list is a sorted collection of objects with numbered entries."
   ]
  },
  {
   "cell_type": "code",
   "execution_count": 11,
   "metadata": {
    "collapsed": true
   },
   "outputs": [],
   "source": [
    "# Create a list of strings\n",
    "breakfast = ['eggs', 'beans', 'toast', 'ham']"
   ]
  },
  {
   "cell_type": "markdown",
   "metadata": {},
   "source": [
    "The elements in the list can be accessed using the following syntax: `breakfast[0]` will get the first element, `breakfast[1]` will get the second element. Notice that numbering starts at 0!"
   ]
  },
  {
   "cell_type": "code",
   "execution_count": 9,
   "metadata": {},
   "outputs": [
    {
     "name": "stdout",
     "output_type": "stream",
     "text": [
      "eggs\n",
      "beans\n",
      "toast\n"
     ]
    }
   ],
   "source": [
    "print(breakfast[0])\n",
    "print(breakfast[1])\n",
    "print(breakfast[2])"
   ]
  },
  {
   "cell_type": "markdown",
   "metadata": {},
   "source": [
    "Lists can be sliced, which means that we can select a subset of the list. This is done using a colon, `:`. As an example we can get all elements with index larger than 0 as `breakfast[1:]`, and get the ones with indices `1, 2` as `breakfast[1:3]`."
   ]
  },
  {
   "cell_type": "code",
   "execution_count": 12,
   "metadata": {},
   "outputs": [
    {
     "name": "stdout",
     "output_type": "stream",
     "text": [
      "['beans', 'toast', 'ham']\n",
      "['beans', 'toast']\n"
     ]
    }
   ],
   "source": [
    "print(breakfast[1:])\n",
    "print(breakfast[1:3])"
   ]
  },
  {
   "cell_type": "markdown",
   "metadata": {},
   "source": [
    "Assume we have a list of the numbers instead 0 to 9. We can then get every second element by using one more colon, `numbers[0:9:2]`. This indicates the stepsize. So we have the following *some_list[start:end:step_size]*."
   ]
  },
  {
   "cell_type": "code",
   "execution_count": 17,
   "metadata": {},
   "outputs": [
    {
     "data": {
      "text/plain": [
       "[0, 2, 4, 6, 8]"
      ]
     },
     "execution_count": 17,
     "metadata": {},
     "output_type": "execute_result"
    }
   ],
   "source": [
    "numbers = [0, 1, 2, 3, 4, 5, 6, 7, 8, 9]\n",
    "numbers[0:10:2]"
   ]
  },
  {
   "cell_type": "markdown",
   "metadata": {},
   "source": [
    "The order can be reversed by using a negative step size. Also we can leave out the beginning and ending index, if you want to use the whole list. This also means we can reverse a list using `numbers[::-1]`."
   ]
  },
  {
   "cell_type": "code",
   "execution_count": 20,
   "metadata": {},
   "outputs": [
    {
     "name": "stdout",
     "output_type": "stream",
     "text": [
      "[9, 7, 5, 3, 1]\n",
      "[9, 8, 7, 6, 5, 4, 3, 2, 1, 0]\n"
     ]
    }
   ],
   "source": [
    "print(numbers[::-2])\n",
    "print(numbers[::-1])"
   ]
  }
 ],
 "metadata": {
  "kernelspec": {
   "display_name": "Python 3",
   "language": "python",
   "name": "python3"
  },
  "language_info": {
   "codemirror_mode": {
    "name": "ipython",
    "version": 3
   },
   "file_extension": ".py",
   "mimetype": "text/x-python",
   "name": "python",
   "nbconvert_exporter": "python",
   "pygments_lexer": "ipython3",
   "version": "3.6.3"
  }
 },
 "nbformat": 4,
 "nbformat_minor": 2
}
